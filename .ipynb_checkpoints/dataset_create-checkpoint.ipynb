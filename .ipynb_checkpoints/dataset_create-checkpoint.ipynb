{
 "cells": [
  {
   "cell_type": "markdown",
   "id": "3bca1e91",
   "metadata": {},
   "source": [
    "データのクロップ"
   ]
  },
  {
   "cell_type": "code",
   "execution_count": null,
   "id": "4bf2f9bb",
   "metadata": {},
   "outputs": [],
   "source": [
    "import os\n",
    "import glob\n",
    "import cv2\n",
    "import math\n",
    "import numpy as np\n",
    "import pandas as pd\n",
    "import matplotlib.pyplot as plt\n",
    "import torch\n",
    "import torchvision.transforms as transforms\n",
    "from random import randint\n",
    "from tqdm import tqdm"
   ]
  },
  {
   "cell_type": "code",
   "execution_count": null,
   "id": "3806edc1",
   "metadata": {},
   "outputs": [],
   "source": [
    "image_path_list = sorted(glob.glob( \"./new_dataset_er21046/train150/color/*\"))"
   ]
  },
  {
   "cell_type": "code",
   "execution_count": null,
   "id": "813763a6",
   "metadata": {},
   "outputs": [],
   "source": [
    "len(image_path_list)"
   ]
  },
  {
   "cell_type": "code",
   "execution_count": 87,
   "id": "49a994f2",
   "metadata": {},
   "outputs": [
    {
     "name": "stderr",
     "output_type": "stream",
     "text": [
      "100%|███████| 100/100 [00:13<00:00,  7.48it/s]\n"
     ]
    }
   ],
   "source": [
    "img_size = 150\n",
    "crop_size = math.floor(img_size/2)\n",
    "\n",
    "for i in tqdm(range(len(image_path_list))):\n",
    "    image_path = image_path_list[i]\n",
    "    base_path = os.path.splitext(image_path)[0]\n",
    "    \n",
    "    # 画像\n",
    "    image = cv2.imread(image_path)\n",
    "    \n",
    "    # Depth\n",
    "    depth_path = base_path.split('/')\n",
    "    depth_path[3] = \"raw_depth\"\n",
    "    depth_path = os.path.join(*depth_path) + \".npy\"\n",
    "    raw_depth = np.load(depth_path)\n",
    "    \n",
    "    # Depth\n",
    "    depth_path_01 = base_path.split('/')\n",
    "    depth_path_01[3] = \"csv_depth\"\n",
    "    depth_path_01 = os.path.join(*depth_path_01) + \".csv\"\n",
    "    with open(depth_path_01) as file:\n",
    "        csv_depth = np.loadtxt(file, delimiter=',')\n",
    "    \n",
    "    # 把持位置\n",
    "    grasp_info_path = base_path.split('/')\n",
    "    grasp_info_path[3] = \"xyz_camera\" \n",
    "    grasp_info_path = os.path.join(*grasp_info_path) + \".csv\"\n",
    "    grasp_info = np.genfromtxt(grasp_info_path, delimiter=',')\n",
    "    grasp_x  = int(grasp_info[1, 0])\n",
    "    grasp_y  = int(grasp_info[1, 1])\n",
    "    \n",
    "    # 保存先のpath\n",
    "    save_image_path = image_path.split('/')\n",
    "    save_image_path[3] = 'color_crop'\n",
    "    save_image_path = os.path.join(*save_image_path)\n",
    "\n",
    "    save_depth_path = depth_path.split('/')\n",
    "    save_depth_path[3] = 'raw_depth_crop'\n",
    "    save_depth_path = os.path.join(*save_depth_path)\n",
    "\n",
    "    save_depth_path_01 = depth_path_01.split('/')\n",
    "    save_depth_path_01[3] = 'csv_depth_crop'\n",
    "    save_depth_path_01 = os.path.join(*save_depth_path_01)\n",
    "    \n",
    "    # クロップ\n",
    "    image = image[grasp_y-crop_size:grasp_y+crop_size, grasp_x-crop_size:grasp_x+crop_size, :]\n",
    "    raw_depth = raw_depth[grasp_y-crop_size:grasp_y+crop_size, grasp_x-crop_size:grasp_x+crop_size]\n",
    "    csv_depth = csv_depth[grasp_y-crop_size:grasp_y+crop_size, grasp_x-crop_size:grasp_x+crop_size]\n",
    "    \n",
    "    # 保存\n",
    "    cv2.imwrite(save_image_path, image)\n",
    "    np.save(save_depth_path, raw_depth)\n",
    "    np.savetxt(save_depth_path_01, csv_depth, delimiter=',')"
   ]
  },
  {
   "cell_type": "code",
   "execution_count": 88,
   "id": "bfc67b2e",
   "metadata": {},
   "outputs": [
    {
     "name": "stdout",
     "output_type": "stream",
     "text": [
      "数字が10000のファイル:\n",
      "2025-01-20T21-27-28.txt\n",
      "2025-01-20T21-32-39.txt\n",
      "2025-01-20T20-53-21.txt\n",
      "2025-01-20T20-03-48.txt\n"
     ]
    }
   ],
   "source": [
    "target_dir = \"./new_dataset_er21046/train100/grams\"\n",
    "\n",
    "files_with_10000 = []\n",
    "\n",
    "# 対象ディレクトリ内のすべてのファイルを処理\n",
    "for file_name in os.listdir(target_dir):\n",
    "    if file_name.endswith(\".txt\"):  # .txtファイルのみ対象\n",
    "        file_path = os.path.join(target_dir, file_name)\n",
    "        \n",
    "        # ファイルを開いて中身をチェック\n",
    "        with open(file_path, \"r\") as file:\n",
    "            content = file.read().strip()\n",
    "            \n",
    "            # 中身が数字かどうか確認\n",
    "            if content.isdigit() and int(content) == 0:\n",
    "                files_with_10000.append(file_name)\n",
    "\n",
    "# 結果を出力\n",
    "print(\"数字が10000のファイル:\")\n",
    "for file_name in files_with_10000:\n",
    "    print(file_name)"
   ]
  },
  {
   "cell_type": "code",
   "execution_count": null,
   "id": "27b2c4d2",
   "metadata": {},
   "outputs": [],
   "source": []
  },
  {
   "cell_type": "code",
   "execution_count": null,
   "id": "cf326454",
   "metadata": {},
   "outputs": [],
   "source": []
  },
  {
   "cell_type": "markdown",
   "id": "50d62562",
   "metadata": {},
   "source": [
    "データの保存"
   ]
  },
  {
   "cell_type": "code",
   "execution_count": 91,
   "id": "ccab25c0",
   "metadata": {},
   "outputs": [],
   "source": [
    "import glob\n",
    "import pickle\n",
    "import numpy as np\n",
    "import matplotlib.pyplot as plt"
   ]
  },
  {
   "cell_type": "code",
   "execution_count": 92,
   "id": "b135d26d",
   "metadata": {},
   "outputs": [],
   "source": [
    "grams_path_list = sorted(glob.glob(\"./new_dataset_er21046/train100/grams/*\"))\n",
    "\n",
    "grasp_mass_list = []\n",
    "for i in range(len(grams_path_list)):\n",
    "    with open(grams_path_list[i]) as f:\n",
    "        grasp_mass = f.read()\n",
    "    grasp_mass_list.append(float(grasp_mass))"
   ]
  },
  {
   "cell_type": "code",
   "execution_count": 93,
   "id": "4f2f1aa1",
   "metadata": {},
   "outputs": [
    {
     "name": "stdout",
     "output_type": "stream",
     "text": [
      "[3.81, 1.82, 6.17, 4.4, 4.4, 6.42, 2.06, 0.86, 3.57, 6.63, 2.58, 6.13, 6.53, 4.1, 3.58, 2.0, 4.67, 10.65, 5.65, 5.78, 3.17, 6.33, 2.55, 7.73, 1.01, 8.09, 9.14, 4.3, 8.58, 7.28, 0.0, 9.0, 4.09, 2.42, 6.6, 1.49, 4.85, 5.06, 0.9, 4.16, 2.12, 2.28, 6.75, 3.58, 7.14, 4.14, 8.41, 2.83, 3.76, 5.07, 5.5, 0.0, 2.85, 1.78, 3.22, 1.01, 2.38, 0.13, 1.63, 5.0, 1.22, 3.9, 3.74, 3.68, 6.35, 0.0, 3.41, 4.01, 0.0, 5.2, 6.43, 3.71, 11.69, 3.31, 4.28, 1.68, 5.82, 6.0, 4.0, 1.93, 1.29, 4.22, 7.85, 7.46, 5.13, 0.6, 3.94, 2.69, 4.2, 3.5, 6.87, 3.25, 4.56, 2.92, 11.23, 7.28, 5.74, 2.11, 6.16, 2.94]\n",
      "[41 54 99 73 62 17 14 60 66 19 27 15 23 38 13 55 61 59 28 39 65 75 85 51\n",
      "  4 91 58 53 68 31 32 71 92 33 96 49 20 52  0 30 80 70 64 93 26  8 76 42\n",
      " 21 24 90 78 46 83 57 86 56 67 47  9  7 79 48 69 94 77 12 36 45 72  3 37\n",
      " 25 35 84 11 16 95 10 43  5 98 34 40  2 74 29 88 63 87  1 44 50 97 22 81\n",
      " 82 89 18  6]\n",
      "Train data\n"
     ]
    },
    {
     "data": {
      "image/png": "[encoded data removed]",
      "text/plain": [
       "<Figure size 640x480 with 1 Axes>"
      ]
     },
     "metadata": {},
     "output_type": "display_data"
    }
   ],
   "source": [
    "print(grasp_mass_list)\n",
    "num_all   = 100\n",
    "\n",
    "id_all   = np.random.choice(num_all, num_all, replace=False)\n",
    "id_train = id_all\n",
    "print(id_train)\n",
    "\n",
    "print(\"Train data\")\n",
    "plt.hist(np.array(grasp_mass_list)[id_train], bins=np.arange(-1, 11, 0.1), alpha=0.5, ec='navy')\n",
    "plt.grid(axis='y')\n",
    "plt.ylabel('Number of data')\n",
    "plt.xlabel('Grasped mass [g]')\n",
    "plt.show()\n"
   ]
  },
  {
   "cell_type": "code",
   "execution_count": 94,
   "id": "e3a3be0d",
   "metadata": {},
   "outputs": [],
   "source": [
    "# 保存\n",
    "with open('./new_dataset_er21046/train100/divide_ids/data_train_100.pickle', mode='wb') as fo:\n",
    "    pickle.dump([id_train], fo)"
   ]
  },
  {
   "cell_type": "code",
   "execution_count": null,
   "id": "697159a9",
   "metadata": {},
   "outputs": [],
   "source": []
  },
  {
   "cell_type": "code",
   "execution_count": null,
   "id": "56664234",
   "metadata": {},
   "outputs": [],
   "source": []
  },
  {
   "cell_type": "code",
   "execution_count": null,
   "id": "24e09819",
   "metadata": {},
   "outputs": [],
   "source": []
  }
 ],
 "metadata": {
  "kernelspec": {
   "display_name": "Python 3 (ipykernel)",
   "language": "python",
   "name": "python3"
  },
  "language_info": {
   "codemirror_mode": {
    "name": "ipython",
    "version": 3
   },
   "file_extension": ".py",
   "mimetype": "text/x-python",
   "name": "python",
   "nbconvert_exporter": "python",
   "pygments_lexer": "ipython3",
   "version": "3.10.12"
  }
 },
 "nbformat": 4,
 "nbformat_minor": 5
}
