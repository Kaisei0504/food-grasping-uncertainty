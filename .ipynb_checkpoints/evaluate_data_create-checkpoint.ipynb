{
 "cells": [
  {
   "cell_type": "markdown",
   "id": "f75e31fe",
   "metadata": {},
   "source": [
    "データのクロップ"
   ]
  },
  {
   "cell_type": "code",
   "execution_count": 127,
   "id": "4fe40dcb",
   "metadata": {},
   "outputs": [],
   "source": [
    "import os\n",
    "import glob\n",
    "import cv2\n",
    "import math\n",
    "import numpy as np\n",
    "import pandas as pd\n",
    "import matplotlib.pyplot as plt\n",
    "import torch\n",
    "import torchvision.transforms as transforms\n",
    "from random import randint\n",
    "from tqdm import tqdm"
   ]
  },
  {
   "cell_type": "code",
   "execution_count": 128,
   "id": "7dfdd65a",
   "metadata": {},
   "outputs": [
    {
     "data": {
      "text/plain": [
       "100"
      ]
     },
     "execution_count": 128,
     "metadata": {},
     "output_type": "execute_result"
    }
   ],
   "source": [
    "image_path_list = sorted(glob.glob( \"./evaluate_data_er21046/train200/no_sampler_RNDMDN/color/*\"))\n",
    "len(image_path_list)"
   ]
  },
  {
   "cell_type": "code",
   "execution_count": 129,
   "id": "9ab1dc2a",
   "metadata": {},
   "outputs": [
    {
     "data": {
      "text/plain": [
       "0"
      ]
     },
     "execution_count": 129,
     "metadata": {},
     "output_type": "execute_result"
    }
   ],
   "source": [
    "image_path_list_01 = sorted(glob.glob( \"./evaluate_data_er21046/train200/no_sampler_RNDMDN/color_crop/*\"))\n",
    "len(image_path_list_01)"
   ]
  },
  {
   "cell_type": "code",
   "execution_count": 130,
   "id": "e7c1a448",
   "metadata": {},
   "outputs": [
    {
     "data": {
      "text/plain": [
       "100"
      ]
     },
     "execution_count": 130,
     "metadata": {},
     "output_type": "execute_result"
    }
   ],
   "source": [
    "image_path_list_02 = sorted(glob.glob( \"./evaluate_data_er21046/train200/no_sampler_RNDMDN/csv_depth/*\"))\n",
    "len(image_path_list_02)"
   ]
  },
  {
   "cell_type": "code",
   "execution_count": 131,
   "id": "df5cba3c",
   "metadata": {},
   "outputs": [
    {
     "data": {
      "text/plain": [
       "0"
      ]
     },
     "execution_count": 131,
     "metadata": {},
     "output_type": "execute_result"
    }
   ],
   "source": [
    "image_path_list_03 = sorted(glob.glob( \"./evaluate_data_er21046/train200/no_sampler_RNDMDN/csv_depth_crop/*\"))\n",
    "len(image_path_list_03)"
   ]
  },
  {
   "cell_type": "code",
   "execution_count": 132,
   "id": "3ca5cd12",
   "metadata": {},
   "outputs": [
    {
     "data": {
      "text/plain": [
       "0"
      ]
     },
     "execution_count": 132,
     "metadata": {},
     "output_type": "execute_result"
    }
   ],
   "source": [
    "image_path_list_10 = sorted(glob.glob( \"./evaluate_data_er21046/train200/no_sampler_RNDMDN/estimated_sd/*\"))\n",
    "len(image_path_list_10)"
   ]
  },
  {
   "cell_type": "code",
   "execution_count": 133,
   "id": "4bd0b563",
   "metadata": {},
   "outputs": [
    {
     "data": {
      "text/plain": [
       "100"
      ]
     },
     "execution_count": 133,
     "metadata": {},
     "output_type": "execute_result"
    }
   ],
   "source": [
    "image_path_list_04 = sorted(glob.glob( \"./evaluate_data_er21046/train200/no_sampler_RNDMDN/grams/*\"))\n",
    "len(image_path_list_04)"
   ]
  },
  {
   "cell_type": "code",
   "execution_count": 134,
   "id": "0af0f183",
   "metadata": {},
   "outputs": [
    {
     "data": {
      "text/plain": [
       "100"
      ]
     },
     "execution_count": 134,
     "metadata": {},
     "output_type": "execute_result"
    }
   ],
   "source": [
    "image_path_list_11 = sorted(glob.glob( \"./evaluate_data_er21046/train200/no_sampler_RNDMDN/grams_txt/*\"))\n",
    "len(image_path_list_11)"
   ]
  },
  {
   "cell_type": "code",
   "execution_count": 135,
   "id": "b1883204",
   "metadata": {},
   "outputs": [
    {
     "data": {
      "text/plain": [
       "100"
      ]
     },
     "execution_count": 135,
     "metadata": {},
     "output_type": "execute_result"
    }
   ],
   "source": [
    "image_path_list_05 = sorted(glob.glob( \"./evaluate_data_er21046/train200/no_sampler_RNDMDN/image_depth/*\"))\n",
    "len(image_path_list_05)"
   ]
  },
  {
   "cell_type": "code",
   "execution_count": 136,
   "id": "bf051b54",
   "metadata": {},
   "outputs": [
    {
     "data": {
      "text/plain": [
       "100"
      ]
     },
     "execution_count": 136,
     "metadata": {},
     "output_type": "execute_result"
    }
   ],
   "source": [
    "image_path_list_15 = sorted(glob.glob( \"./evaluate_data_er21046/train200/no_sampler_RNDMDN/rank/*\"))\n",
    "len(image_path_list_15)"
   ]
  },
  {
   "cell_type": "code",
   "execution_count": 137,
   "id": "bc046cda",
   "metadata": {},
   "outputs": [
    {
     "data": {
      "text/plain": [
       "100"
      ]
     },
     "execution_count": 137,
     "metadata": {},
     "output_type": "execute_result"
    }
   ],
   "source": [
    "image_path_list_06 = sorted(glob.glob( \"./evaluate_data_er21046/train200/no_sampler_RNDMDN/raw_depth/*\"))\n",
    "len(image_path_list_06)"
   ]
  },
  {
   "cell_type": "code",
   "execution_count": 138,
   "id": "614788ed",
   "metadata": {},
   "outputs": [
    {
     "data": {
      "text/plain": [
       "0"
      ]
     },
     "execution_count": 138,
     "metadata": {},
     "output_type": "execute_result"
    }
   ],
   "source": [
    "image_path_list_07 = sorted(glob.glob( \"./evaluate_data_er21046/train200/no_sampler_RNDMDN/raw_depth_crop/*\"))\n",
    "len(image_path_list_07)"
   ]
  },
  {
   "cell_type": "code",
   "execution_count": 139,
   "id": "6a190294",
   "metadata": {},
   "outputs": [
    {
     "data": {
      "text/plain": [
       "100"
      ]
     },
     "execution_count": 139,
     "metadata": {},
     "output_type": "execute_result"
    }
   ],
   "source": [
    "image_path_list_12 = sorted(glob.glob( \"./evaluate_data_er21046/train200/no_sampler_RNDMDN/results_rnd/*\"))\n",
    "len(image_path_list_12)"
   ]
  },
  {
   "cell_type": "code",
   "execution_count": 140,
   "id": "4b00ed64",
   "metadata": {},
   "outputs": [
    {
     "data": {
      "text/plain": [
       "100"
      ]
     },
     "execution_count": 140,
     "metadata": {},
     "output_type": "execute_result"
    }
   ],
   "source": [
    "image_path_list_13 = sorted(glob.glob( \"./evaluate_data_er21046/train200/no_sampler_RNDMDN/results_sd/*\"))\n",
    "len(image_path_list_13)"
   ]
  },
  {
   "cell_type": "code",
   "execution_count": 141,
   "id": "061c9c2b",
   "metadata": {},
   "outputs": [
    {
     "data": {
      "text/plain": [
       "100"
      ]
     },
     "execution_count": 141,
     "metadata": {},
     "output_type": "execute_result"
    }
   ],
   "source": [
    "image_path_list_14 = sorted(glob.glob( \"./evaluate_data_er21046/train200/no_sampler_RNDMDN/rnd_score/*\"))\n",
    "len(image_path_list_14)"
   ]
  },
  {
   "cell_type": "code",
   "execution_count": 142,
   "id": "27c809a4",
   "metadata": {},
   "outputs": [
    {
     "data": {
      "text/plain": [
       "100"
      ]
     },
     "execution_count": 142,
     "metadata": {},
     "output_type": "execute_result"
    }
   ],
   "source": [
    "image_path_list_08 = sorted(glob.glob( \"./evaluate_data_er21046/train200/no_sampler_RNDMDN/xyz_camera/*\"))\n",
    "len(image_path_list_08)"
   ]
  },
  {
   "cell_type": "code",
   "execution_count": 143,
   "id": "9563a04f",
   "metadata": {},
   "outputs": [
    {
     "data": {
      "text/plain": [
       "100"
      ]
     },
     "execution_count": 143,
     "metadata": {},
     "output_type": "execute_result"
    }
   ],
   "source": [
    "image_path_list_09 = sorted(glob.glob( \"./evaluate_data_er21046/train200/no_sampler_RNDMDN/xyz_robot/*\"))\n",
    "len(image_path_list_09)"
   ]
  },
  {
   "cell_type": "code",
   "execution_count": null,
   "id": "e659ca5d",
   "metadata": {},
   "outputs": [],
   "source": []
  },
  {
   "cell_type": "code",
   "execution_count": 144,
   "id": "37870d6c",
   "metadata": {},
   "outputs": [
    {
     "name": "stderr",
     "output_type": "stream",
     "text": [
      "100%|█████████████████████████████████████████| 100/100 [00:13<00:00,  7.60it/s]\n"
     ]
    }
   ],
   "source": [
    "img_size = 150\n",
    "crop_size = math.floor(img_size/2)\n",
    "\n",
    "for i in tqdm(range(len(image_path_list))):\n",
    "    image_path = image_path_list[i]\n",
    "    base_path = os.path.splitext(image_path)[0]\n",
    "    \n",
    "    # 画像\n",
    "    image = cv2.imread(image_path)\n",
    "    \n",
    "    # Depth\n",
    "    depth_path = base_path.split('/')\n",
    "    depth_path[4] = \"raw_depth\"\n",
    "    depth_path = os.path.join(*depth_path) + \".npy\"\n",
    "    raw_depth = np.load(depth_path)\n",
    "    \n",
    "    # Depth\n",
    "    depth_path_01 = base_path.split('/')\n",
    "    depth_path_01[4] = \"csv_depth\"\n",
    "    depth_path_01 = os.path.join(*depth_path_01) + \".csv\"\n",
    "    with open(depth_path_01) as file:\n",
    "        csv_depth = np.loadtxt(file, delimiter=',')\n",
    "    \n",
    "    # 把持位置\n",
    "    grasp_info_path = base_path.split('/')\n",
    "    grasp_info_path[4] = \"xyz_camera\" \n",
    "    grasp_info_path = os.path.join(*grasp_info_path) + \".csv\"\n",
    "    grasp_info = np.genfromtxt(grasp_info_path, delimiter=',')\n",
    "    grasp_x  = int(grasp_info[1, 0])\n",
    "    grasp_y  = int(grasp_info[1, 1])\n",
    "    \n",
    "    # 保存先のpath\n",
    "    save_image_path = image_path.split('/')\n",
    "    save_image_path[4] = 'color_crop'\n",
    "    save_image_path = os.path.join(*save_image_path)\n",
    "\n",
    "    save_depth_path = depth_path.split('/')\n",
    "    save_depth_path[4] = 'raw_depth_crop'\n",
    "    save_depth_path = os.path.join(*save_depth_path)\n",
    "\n",
    "    save_depth_path_01 = depth_path_01.split('/')\n",
    "    save_depth_path_01[4] = 'csv_depth_crop'\n",
    "    save_depth_path_01 = os.path.join(*save_depth_path_01)\n",
    "    \n",
    "    # クロップ\n",
    "    image = image[grasp_y-crop_size:grasp_y+crop_size, grasp_x-crop_size:grasp_x+crop_size, :]\n",
    "    raw_depth = raw_depth[grasp_y-crop_size:grasp_y+crop_size, grasp_x-crop_size:grasp_x+crop_size]\n",
    "    csv_depth = csv_depth[grasp_y-crop_size:grasp_y+crop_size, grasp_x-crop_size:grasp_x+crop_size]\n",
    "    \n",
    "    # 保存\n",
    "    cv2.imwrite(save_image_path, image)\n",
    "    np.save(save_depth_path, raw_depth)\n",
    "    np.savetxt(save_depth_path_01, csv_depth, delimiter=',')"
   ]
  },
  {
   "cell_type": "code",
   "execution_count": 145,
   "id": "3d7eda51",
   "metadata": {},
   "outputs": [
    {
     "name": "stdout",
     "output_type": "stream",
     "text": [
      "数字が10000のファイル:\n"
     ]
    }
   ],
   "source": [
    "target_dir = \"./evaluate_data_er21046/train200/no_sampler_RNDMDN/grams\"\n",
    "\n",
    "files_with_10000 = []\n",
    "\n",
    "# 対象ディレクトリ内のすべてのファイルを処理\n",
    "for file_name in os.listdir(target_dir):\n",
    "    if file_name.endswith(\".txt\"):  # .txtファイルのみ対象\n",
    "        file_path = os.path.join(target_dir, file_name)\n",
    "        \n",
    "        # ファイルを開いて中身をチェック\n",
    "        with open(file_path, \"r\") as file:\n",
    "            content = file.read().strip()\n",
    "            \n",
    "            # 中身が数字かどうか確認\n",
    "            if content.isdigit() and int(content) == 0:\n",
    "                files_with_10000.append(file_name)\n",
    "\n",
    "# 結果を出力\n",
    "print(\"数字が10000のファイル:\")\n",
    "for file_name in files_with_10000:\n",
    "    print(file_name)"
   ]
  },
  {
   "cell_type": "markdown",
   "id": "ecc322eb",
   "metadata": {},
   "source": [
    "データの保存"
   ]
  },
  {
   "cell_type": "code",
   "execution_count": 146,
   "id": "6009c302",
   "metadata": {},
   "outputs": [],
   "source": [
    "import glob\n",
    "import pickle\n",
    "import numpy as np\n",
    "import matplotlib.pyplot as plt"
   ]
  },
  {
   "cell_type": "code",
   "execution_count": 147,
   "id": "99120b9a",
   "metadata": {},
   "outputs": [],
   "source": [
    "grams_path_list = sorted(glob.glob(\"./evaluate_data_er21046/train200/no_sampler_RNDMDN/grams/*\"))\n",
    "\n",
    "grasp_mass_list = []\n",
    "for i in range(len(grams_path_list)):\n",
    "    with open(grams_path_list[i]) as f:\n",
    "        grasp_mass = f.read()\n",
    "    grasp_mass_list.append(float(grasp_mass))"
   ]
  },
  {
   "cell_type": "code",
   "execution_count": 148,
   "id": "226d9aeb",
   "metadata": {},
   "outputs": [
    {
     "name": "stdout",
     "output_type": "stream",
     "text": [
      "[4.76, 1.86, 5.0, 2.55, 3.87, 3.0, 4.78, 3.46, 5.76, 1.77, 3.94, 4.18, 2.9, 2.48, 0.9, 4.5, 4.0, 2.46, 0.56, 3.15, 2.05, 3.39, 3.38, 4.82, 5.18, 0.0, 1.36, 6.12, 0.87, 4.99, 10.13, 3.26, 1.52, 3.71, 4.52, 1.79, 1.8, 6.0, 1.95, 2.11, 3.9, 1.53, 7.27, 8.93, 1.25, 0.75, 1.61, 1.73, 1.0, 3.35, 5.66, 4.62, 0.0, 5.71, 8.96, 2.44, 1.52, 0.0, 2.62, 1.02, 0.0, 3.99, 2.09, 4.1, 1.99, 5.25, 3.7, 3.75, 3.56, 0.0, 2.13, 2.99, 4.35, 1.63, 3.45, 4.68, 1.95, 4.39, 4.0, 2.26, 3.74, 2.45, 2.03, 2.05, 1.72, 4.32, 3.16, 3.18, 5.26, 5.62, 2.4, 0.53, 6.47, 2.08, 2.65, 4.3, 2.21, 3.98, 0.94, 1.24]\n",
      "[97 34  3 63 19 53 27 59 36 90 65 33 43 87 76 45  8 50 23 20 71 22 79 17\n",
      " 85 98 25 92 73 74 49 51 64 66  4 70  6 30 26 82 62  2 52 88 35 29 57 60\n",
      " 67 16  0 81 69  5 21 11 40 46 61 41 58 15 72 44 91 55 96 18 54 48 10 32\n",
      " 77 94 78  1  7 31 28 56 80 37 86 39 12  9 14 13 42 95 83 24 84 47 89 99\n",
      " 75 93 68 38]\n",
      "Test data\n"
     ]
    },
    {
     "data": {
      "image/png": "[encoded data removed]",
      "text/plain": [
       "<Figure size 640x480 with 1 Axes>"
      ]
     },
     "metadata": {},
     "output_type": "display_data"
    }
   ],
   "source": [
    "print(grasp_mass_list)\n",
    "num_all   = 100\n",
    "\n",
    "id_all   = np.random.choice(num_all, num_all, replace=False)\n",
    "id_test = id_all\n",
    "print(id_test)\n",
    "\n",
    "print(\"Test data\")\n",
    "plt.hist(np.array(grasp_mass_list)[id_test], bins=np.arange(-1, 12, 0.2), alpha=0.5, ec='navy')\n",
    "plt.grid(axis='y')\n",
    "plt.ylabel('Number of data')\n",
    "plt.xlabel('Grasped mass [g]')\n",
    "plt.show()\n"
   ]
  },
  {
   "cell_type": "code",
   "execution_count": 149,
   "id": "b0aa0ddf",
   "metadata": {},
   "outputs": [],
   "source": [
    "# 保存\n",
    "with open('./evaluate_data_er21046/train200/no_sampler_RNDMDN/divide_ids/data_test_100.pickle', mode='wb') as fo:\n",
    "    pickle.dump([id_test], fo)"
   ]
  },
  {
   "cell_type": "code",
   "execution_count": null,
   "id": "2a0343dc",
   "metadata": {},
   "outputs": [],
   "source": []
  },
  {
   "cell_type": "code",
   "execution_count": null,
   "id": "53eb97e0",
   "metadata": {},
   "outputs": [],
   "source": []
  }
 ],
 "metadata": {
  "kernelspec": {
   "display_name": "Python 3 (ipykernel)",
   "language": "python",
   "name": "python3"
  },
  "language_info": {
   "codemirror_mode": {
    "name": "ipython",
    "version": 3
   },
   "file_extension": ".py",
   "mimetype": "text/x-python",
   "name": "python",
   "nbconvert_exporter": "python",
   "pygments_lexer": "ipython3",
   "version": "3.10.12"
  }
 },
 "nbformat": 4,
 "nbformat_minor": 5
}
