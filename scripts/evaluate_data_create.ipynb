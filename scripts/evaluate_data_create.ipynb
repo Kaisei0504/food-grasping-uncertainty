{
 "cells": [
  {
   "cell_type": "markdown",
   "id": "a40d0f0c",
   "metadata": {},
   "source": [
    "データのクロップ"
   ]
  },
  {
   "cell_type": "code",
   "execution_count": 193,
   "id": "e945fab6",
   "metadata": {},
   "outputs": [],
   "source": [
    "import os\n",
    "import glob\n",
    "import cv2\n",
    "import math\n",
    "import numpy as np\n",
    "import pandas as pd\n",
    "import matplotlib.pyplot as plt\n",
    "import torch\n",
    "import torchvision.transforms as transforms\n",
    "from random import randint\n",
    "from tqdm import tqdm"
   ]
  },
  {
   "cell_type": "code",
   "execution_count": 194,
   "id": "49a6dbef",
   "metadata": {},
   "outputs": [
    {
     "data": {
      "text/plain": [
       "100"
      ]
     },
     "execution_count": 194,
     "metadata": {},
     "output_type": "execute_result"
    }
   ],
   "source": [
    "image_path_list = sorted(glob.glob( \"./evaluate_data_er21046/train200_sampler_RNDMDN/color/*\"))\n",
    "len(image_path_list)"
   ]
  },
  {
   "cell_type": "code",
   "execution_count": 195,
   "id": "cc4b3b96",
   "metadata": {},
   "outputs": [
    {
     "data": {
      "text/plain": [
       "0"
      ]
     },
     "execution_count": 195,
     "metadata": {},
     "output_type": "execute_result"
    }
   ],
   "source": [
    "image_path_list_01 = sorted(glob.glob( \"./evaluate_data_er21046/train200_sampler_RNDMDN/color_crop/*\"))\n",
    "len(image_path_list_01)"
   ]
  },
  {
   "cell_type": "code",
   "execution_count": 196,
   "id": "621c2311",
   "metadata": {},
   "outputs": [
    {
     "data": {
      "text/plain": [
       "100"
      ]
     },
     "execution_count": 196,
     "metadata": {},
     "output_type": "execute_result"
    }
   ],
   "source": [
    "image_path_list_02 = sorted(glob.glob( \"./evaluate_data_er21046/train200_sampler_RNDMDN/csv_depth/*\"))\n",
    "len(image_path_list_02)"
   ]
  },
  {
   "cell_type": "code",
   "execution_count": 197,
   "id": "9c254833",
   "metadata": {},
   "outputs": [
    {
     "data": {
      "text/plain": [
       "0"
      ]
     },
     "execution_count": 197,
     "metadata": {},
     "output_type": "execute_result"
    }
   ],
   "source": [
    "image_path_list_03 = sorted(glob.glob( \"./evaluate_data_er21046/train200_sampler_RNDMDN/csv_depth_crop/*\"))\n",
    "len(image_path_list_03)"
   ]
  },
  {
   "cell_type": "code",
   "execution_count": 198,
   "id": "3ecf7f7e",
   "metadata": {},
   "outputs": [
    {
     "data": {
      "text/plain": [
       "100"
      ]
     },
     "execution_count": 198,
     "metadata": {},
     "output_type": "execute_result"
    }
   ],
   "source": [
    "image_path_list_10 = sorted(glob.glob( \"./evaluate_data_er21046/train200_sampler_RNDMDN/estimated_sd/*\"))\n",
    "len(image_path_list_10)"
   ]
  },
  {
   "cell_type": "code",
   "execution_count": 199,
   "id": "7605c73d",
   "metadata": {},
   "outputs": [
    {
     "data": {
      "text/plain": [
       "100"
      ]
     },
     "execution_count": 199,
     "metadata": {},
     "output_type": "execute_result"
    }
   ],
   "source": [
    "image_path_list_04 = sorted(glob.glob( \"./evaluate_data_er21046/train200_sampler_RNDMDN/grams/*\"))\n",
    "len(image_path_list_04)"
   ]
  },
  {
   "cell_type": "code",
   "execution_count": 200,
   "id": "335a2a9d",
   "metadata": {},
   "outputs": [
    {
     "data": {
      "text/plain": [
       "100"
      ]
     },
     "execution_count": 200,
     "metadata": {},
     "output_type": "execute_result"
    }
   ],
   "source": [
    "image_path_list_11 = sorted(glob.glob( \"./evaluate_data_er21046/train200_sampler_RNDMDN/grams_txt/*\"))\n",
    "len(image_path_list_11)"
   ]
  },
  {
   "cell_type": "code",
   "execution_count": 201,
   "id": "fe2ffc88",
   "metadata": {},
   "outputs": [
    {
     "data": {
      "text/plain": [
       "100"
      ]
     },
     "execution_count": 201,
     "metadata": {},
     "output_type": "execute_result"
    }
   ],
   "source": [
    "image_path_list_05 = sorted(glob.glob( \"./evaluate_data_er21046/train200_sampler_RNDMDN/image_depth/*\"))\n",
    "len(image_path_list_05)"
   ]
  },
  {
   "cell_type": "code",
   "execution_count": 202,
   "id": "41b989b8",
   "metadata": {},
   "outputs": [
    {
     "data": {
      "text/plain": [
       "100"
      ]
     },
     "execution_count": 202,
     "metadata": {},
     "output_type": "execute_result"
    }
   ],
   "source": [
    "image_path_list_15 = sorted(glob.glob( \"./evaluate_data_er21046/train200_sampler_RNDMDN/rank/*\"))\n",
    "len(image_path_list_15)"
   ]
  },
  {
   "cell_type": "code",
   "execution_count": 203,
   "id": "aec964c9",
   "metadata": {},
   "outputs": [
    {
     "data": {
      "text/plain": [
       "100"
      ]
     },
     "execution_count": 203,
     "metadata": {},
     "output_type": "execute_result"
    }
   ],
   "source": [
    "image_path_list_06 = sorted(glob.glob( \"./evaluate_data_er21046/train200_sampler_RNDMDN/raw_depth/*\"))\n",
    "len(image_path_list_06)"
   ]
  },
  {
   "cell_type": "code",
   "execution_count": 204,
   "id": "57b455ea",
   "metadata": {},
   "outputs": [
    {
     "data": {
      "text/plain": [
       "0"
      ]
     },
     "execution_count": 204,
     "metadata": {},
     "output_type": "execute_result"
    }
   ],
   "source": [
    "image_path_list_07 = sorted(glob.glob( \"./evaluate_data_er21046/train200_sampler_RNDMDN/raw_depth_crop/*\"))\n",
    "len(image_path_list_07)"
   ]
  },
  {
   "cell_type": "code",
   "execution_count": 205,
   "id": "5fab9420",
   "metadata": {},
   "outputs": [
    {
     "data": {
      "text/plain": [
       "100"
      ]
     },
     "execution_count": 205,
     "metadata": {},
     "output_type": "execute_result"
    }
   ],
   "source": [
    "image_path_list_12 = sorted(glob.glob( \"./evaluate_data_er21046/train200_sampler_RNDMDN/results_rnd/*\"))\n",
    "len(image_path_list_12)"
   ]
  },
  {
   "cell_type": "code",
   "execution_count": 206,
   "id": "a54228db",
   "metadata": {},
   "outputs": [
    {
     "data": {
      "text/plain": [
       "100"
      ]
     },
     "execution_count": 206,
     "metadata": {},
     "output_type": "execute_result"
    }
   ],
   "source": [
    "image_path_list_13 = sorted(glob.glob( \"./evaluate_data_er21046/train200_sampler_RNDMDN/results_sd/*\"))\n",
    "len(image_path_list_13)"
   ]
  },
  {
   "cell_type": "code",
   "execution_count": 207,
   "id": "ceaca403",
   "metadata": {},
   "outputs": [
    {
     "data": {
      "text/plain": [
       "100"
      ]
     },
     "execution_count": 207,
     "metadata": {},
     "output_type": "execute_result"
    }
   ],
   "source": [
    "image_path_list_14 = sorted(glob.glob( \"./evaluate_data_er21046/train200_sampler_RNDMDN/rnd_score/*\"))\n",
    "len(image_path_list_14)"
   ]
  },
  {
   "cell_type": "code",
   "execution_count": 208,
   "id": "cea1f972",
   "metadata": {},
   "outputs": [
    {
     "data": {
      "text/plain": [
       "100"
      ]
     },
     "execution_count": 208,
     "metadata": {},
     "output_type": "execute_result"
    }
   ],
   "source": [
    "image_path_list_08 = sorted(glob.glob( \"./evaluate_data_er21046/train200_sampler_RNDMDN/xyz_camera/*\"))\n",
    "len(image_path_list_08)"
   ]
  },
  {
   "cell_type": "code",
   "execution_count": 209,
   "id": "8fbf908c",
   "metadata": {},
   "outputs": [
    {
     "data": {
      "text/plain": [
       "100"
      ]
     },
     "execution_count": 209,
     "metadata": {},
     "output_type": "execute_result"
    }
   ],
   "source": [
    "image_path_list_09 = sorted(glob.glob( \"./evaluate_data_er21046/train200_sampler_RNDMDN/xyz_robot/*\"))\n",
    "len(image_path_list_09)"
   ]
  },
  {
   "cell_type": "code",
   "execution_count": null,
   "id": "36364e94",
   "metadata": {},
   "outputs": [],
   "source": []
  },
  {
   "cell_type": "code",
   "execution_count": 210,
   "id": "4f1f4d14",
   "metadata": {},
   "outputs": [
    {
     "name": "stderr",
     "output_type": "stream",
     "text": [
      "100%|█████████████████████████████████████████| 100/100 [00:13<00:00,  7.53it/s]\n"
     ]
    }
   ],
   "source": [
    "img_size = 150\n",
    "crop_size = math.floor(img_size/2)\n",
    "\n",
    "for i in tqdm(range(len(image_path_list))):\n",
    "    image_path = image_path_list[i]\n",
    "    base_path = os.path.splitext(image_path)[0]\n",
    "    \n",
    "    # 画像\n",
    "    image = cv2.imread(image_path)\n",
    "    \n",
    "    # Depth\n",
    "    depth_path = base_path.split('/')\n",
    "    depth_path[3] = \"raw_depth\"\n",
    "    depth_path = os.path.join(*depth_path) + \".npy\"\n",
    "    raw_depth = np.load(depth_path)\n",
    "    \n",
    "    # Depth\n",
    "    depth_path_01 = base_path.split('/')\n",
    "    depth_path_01[3] = \"csv_depth\"\n",
    "    depth_path_01 = os.path.join(*depth_path_01) + \".csv\"\n",
    "    with open(depth_path_01) as file:\n",
    "        csv_depth = np.loadtxt(file, delimiter=',')\n",
    "    \n",
    "    # 把持位置\n",
    "    grasp_info_path = base_path.split('/')\n",
    "    grasp_info_path[3] = \"xyz_camera\" \n",
    "    grasp_info_path = os.path.join(*grasp_info_path) + \".csv\"\n",
    "    grasp_info = np.genfromtxt(grasp_info_path, delimiter=',')\n",
    "    grasp_x  = int(grasp_info[1, 0])\n",
    "    grasp_y  = int(grasp_info[1, 1])\n",
    "    \n",
    "    # 保存先のpath\n",
    "    save_image_path = image_path.split('/')\n",
    "    save_image_path[3] = 'color_crop'\n",
    "    save_image_path = os.path.join(*save_image_path)\n",
    "\n",
    "    save_depth_path = depth_path.split('/')\n",
    "    save_depth_path[3] = 'raw_depth_crop'\n",
    "    save_depth_path = os.path.join(*save_depth_path)\n",
    "\n",
    "    save_depth_path_01 = depth_path_01.split('/')\n",
    "    save_depth_path_01[3] = 'csv_depth_crop'\n",
    "    save_depth_path_01 = os.path.join(*save_depth_path_01)\n",
    "    \n",
    "    # クロップ\n",
    "    image = image[grasp_y-crop_size:grasp_y+crop_size, grasp_x-crop_size:grasp_x+crop_size, :]\n",
    "    raw_depth = raw_depth[grasp_y-crop_size:grasp_y+crop_size, grasp_x-crop_size:grasp_x+crop_size]\n",
    "    csv_depth = csv_depth[grasp_y-crop_size:grasp_y+crop_size, grasp_x-crop_size:grasp_x+crop_size]\n",
    "    \n",
    "    # 保存\n",
    "    cv2.imwrite(save_image_path, image)\n",
    "    np.save(save_depth_path, raw_depth)\n",
    "    np.savetxt(save_depth_path_01, csv_depth, delimiter=',')"
   ]
  },
  {
   "cell_type": "code",
   "execution_count": 211,
   "id": "579eeb53",
   "metadata": {},
   "outputs": [
    {
     "name": "stdout",
     "output_type": "stream",
     "text": [
      "数字が10000のファイル:\n"
     ]
    }
   ],
   "source": [
    "target_dir = \"./evaluate_data_er21046/train200_sampler_RNDMDN/grams\"\n",
    "\n",
    "files_with_10000 = []\n",
    "\n",
    "# 対象ディレクトリ内のすべてのファイルを処理\n",
    "for file_name in os.listdir(target_dir):\n",
    "    if file_name.endswith(\".txt\"):  # .txtファイルのみ対象\n",
    "        file_path = os.path.join(target_dir, file_name)\n",
    "        \n",
    "        # ファイルを開いて中身をチェック\n",
    "        with open(file_path, \"r\") as file:\n",
    "            content = file.read().strip()\n",
    "            \n",
    "            # 中身が数字かどうか確認\n",
    "            if content.isdigit() and int(content) == 0:\n",
    "                files_with_10000.append(file_name)\n",
    "\n",
    "# 結果を出力\n",
    "print(\"数字が10000のファイル:\")\n",
    "for file_name in files_with_10000:\n",
    "    print(file_name)"
   ]
  },
  {
   "cell_type": "markdown",
   "id": "baf1d24d",
   "metadata": {},
   "source": [
    "データの保存"
   ]
  },
  {
   "cell_type": "code",
   "execution_count": 212,
   "id": "1b0e1445",
   "metadata": {},
   "outputs": [],
   "source": [
    "import glob\n",
    "import pickle\n",
    "import numpy as np\n",
    "import matplotlib.pyplot as plt"
   ]
  },
  {
   "cell_type": "code",
   "execution_count": 213,
   "id": "82c262f9",
   "metadata": {},
   "outputs": [],
   "source": [
    "grams_path_list = sorted(glob.glob(\"./evaluate_data_er21046/train200_sampler_RNDMDN/grams/*\"))\n",
    "\n",
    "grasp_mass_list = []\n",
    "for i in range(len(grams_path_list)):\n",
    "    with open(grams_path_list[i]) as f:\n",
    "        grasp_mass = f.read()\n",
    "    grasp_mass_list.append(float(grasp_mass))"
   ]
  },
  {
   "cell_type": "code",
   "execution_count": 214,
   "id": "3e81f0e5",
   "metadata": {},
   "outputs": [
    {
     "name": "stdout",
     "output_type": "stream",
     "text": [
      "[6.69, 3.34, 4.0, 1.2, 2.98, 1.0, 2.86, 5.09, 3.78, 2.36, 3.73, 1.0, 0.0, 6.0, 2.71, 9.81, 2.56, 5.36, 5.53, 3.65, 3.6, 5.06, 4.21, 3.97, 3.24, 0.0, 4.11, 1.0, 5.13, 3.92, 4.34, 2.99, 0.0, 5.0, 1.47, 2.1, 1.0, 3.84, 5.31, 2.2, 5.28, 0.0, 5.82, 6.88, 1.99, 6.93, 2.36, 3.18, 7.01, 3.53, 0.23, 4.62, 6.37, 0.42, 2.95, 3.89, 3.64, 4.0, 2.68, 6.57, 5.35, 4.81, 3.0, 3.06, 0.15, 5.16, 2.63, 5.25, 5.23, 2.46, 2.0, 5.42, 5.86, 2.71, 3.8, 0.0, 6.52, 3.75, 3.09, 10.29, 3.5, 3.54, 5.27, 1.41, 4.0, 0.51, 3.02, 4.98, 0.54, 4.7, 4.72, 1.24, 2.02, 2.44, 1.51, 2.22, 1.54, 4.21, 4.15, 5.32]\n",
      "[49 15 44  2 66 78 72 75 98 12 73 68 84 70  8 71 40 35 34 48 52 28 87 92\n",
      " 46 86 41 64 62 25  3 45 94 91 83 33 58 88 60  7 51 24 36  4 20 10 42 99\n",
      " 54 39 32 17 31 47  6 18 82 76  0 59 61 38 22 23 74 43 97 14  9 77 96 16\n",
      " 65 37 81 79 80  1 30 56 89 26 85 50 69 21  5 53 93 13 90 63 29 19 27 57\n",
      " 55 67 95 11]\n",
      "Test data\n"
     ]
    },
    {
     "data": {
      "image/png": "[encoded data removed]",
      "text/plain": [
       "<Figure size 640x480 with 1 Axes>"
      ]
     },
     "metadata": {},
     "output_type": "display_data"
    }
   ],
   "source": [
    "print(grasp_mass_list)\n",
    "num_all   = 100\n",
    "\n",
    "id_all   = np.random.choice(num_all, num_all, replace=False)\n",
    "id_test = id_all\n",
    "print(id_test)\n",
    "\n",
    "print(\"Test data\")\n",
    "plt.hist(np.array(grasp_mass_list)[id_test], bins=np.arange(-1, 12, 0.2), alpha=0.5, ec='navy')\n",
    "plt.grid(axis='y')\n",
    "plt.ylabel('Number of data')\n",
    "plt.xlabel('Grasped mass [g]')\n",
    "plt.show()\n"
   ]
  },
  {
   "cell_type": "code",
   "execution_count": 215,
   "id": "03f4055a",
   "metadata": {},
   "outputs": [],
   "source": [
    "# 保存\n",
    "with open('./evaluate_data_er21046/train200_sampler_RNDMDN/divide_ids/data_test_100.pickle', mode='wb') as fo:\n",
    "    pickle.dump([id_test], fo)"
   ]
  },
  {
   "cell_type": "code",
   "execution_count": null,
   "id": "f7c22dea",
   "metadata": {},
   "outputs": [],
   "source": []
  },
  {
   "cell_type": "code",
   "execution_count": null,
   "id": "83140f73",
   "metadata": {},
   "outputs": [],
   "source": []
  }
 ],
 "metadata": {
  "kernelspec": {
   "display_name": "Python 3 (ipykernel)",
   "language": "python",
   "name": "python3"
  },
  "language_info": {
   "codemirror_mode": {
    "name": "ipython",
    "version": 3
   },
   "file_extension": ".py",
   "mimetype": "text/x-python",
   "name": "python",
   "nbconvert_exporter": "python",
   "pygments_lexer": "ipython3",
   "version": "3.10.12"
  }
 },
 "nbformat": 4,
 "nbformat_minor": 5
}
