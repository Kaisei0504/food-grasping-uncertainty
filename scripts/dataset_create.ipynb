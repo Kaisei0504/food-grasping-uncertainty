{
 "cells": [
  {
   "cell_type": "markdown",
   "id": "8d52a7f2",
   "metadata": {},
   "source": [
    "データのクロップ"
   ]
  },
  {
   "cell_type": "code",
   "execution_count": 4,
   "id": "82008fc6",
   "metadata": {},
   "outputs": [],
   "source": [
    "import os\n",
    "import glob\n",
    "import cv2\n",
    "import math\n",
    "import numpy as np\n",
    "import pandas as pd\n",
    "import matplotlib.pyplot as plt\n",
    "import torch\n",
    "import torchvision.transforms as transforms\n",
    "from random import randint\n",
    "from tqdm import tqdm"
   ]
  },
  {
   "cell_type": "code",
   "execution_count": 5,
   "id": "878e8d4a",
   "metadata": {},
   "outputs": [],
   "source": [
    "image_path_list = sorted(glob.glob( \"./new_dataset_er21046/train300/color/*\"))"
   ]
  },
  {
   "cell_type": "code",
   "execution_count": 6,
   "id": "7d9b2c97",
   "metadata": {},
   "outputs": [
    {
     "data": {
      "text/plain": [
       "300"
      ]
     },
     "execution_count": 6,
     "metadata": {},
     "output_type": "execute_result"
    }
   ],
   "source": [
    "len(image_path_list)"
   ]
  },
  {
   "cell_type": "code",
   "execution_count": 7,
   "id": "d6e50997",
   "metadata": {},
   "outputs": [
    {
     "name": "stderr",
     "output_type": "stream",
     "text": [
      "100%|██████████████████████████████████████████████████| 300/300 [00:41<00:00,  7.31it/s]\n"
     ]
    }
   ],
   "source": [
    "img_size = 150\n",
    "crop_size = math.floor(img_size/2)\n",
    "\n",
    "for i in tqdm(range(len(image_path_list))):\n",
    "    image_path = image_path_list[i]\n",
    "    base_path = os.path.splitext(image_path)[0]\n",
    "    \n",
    "    # 画像\n",
    "    image = cv2.imread(image_path)\n",
    "    \n",
    "    # Depth\n",
    "    depth_path = base_path.split('/')\n",
    "    depth_path[3] = \"raw_depth\"\n",
    "    depth_path = os.path.join(*depth_path) + \".npy\"\n",
    "    raw_depth = np.load(depth_path)\n",
    "    \n",
    "    # Depth\n",
    "    depth_path_01 = base_path.split('/')\n",
    "    depth_path_01[3] = \"csv_depth\"\n",
    "    depth_path_01 = os.path.join(*depth_path_01) + \".csv\"\n",
    "    with open(depth_path_01) as file:\n",
    "        csv_depth = np.loadtxt(file, delimiter=',')\n",
    "    \n",
    "    # 把持位置\n",
    "    grasp_info_path = base_path.split('/')\n",
    "    grasp_info_path[3] = \"xyz_camera\" \n",
    "    grasp_info_path = os.path.join(*grasp_info_path) + \".csv\"\n",
    "    grasp_info = np.genfromtxt(grasp_info_path, delimiter=',')\n",
    "    grasp_x  = int(grasp_info[1, 0])\n",
    "    grasp_y  = int(grasp_info[1, 1])\n",
    "    \n",
    "    # 保存先のpath\n",
    "    save_image_path = image_path.split('/')\n",
    "    save_image_path[3] = 'color_crop'\n",
    "    save_image_path = os.path.join(*save_image_path)\n",
    "\n",
    "    save_depth_path = depth_path.split('/')\n",
    "    save_depth_path[3] = 'raw_depth_crop'\n",
    "    save_depth_path = os.path.join(*save_depth_path)\n",
    "\n",
    "    save_depth_path_01 = depth_path_01.split('/')\n",
    "    save_depth_path_01[3] = 'csv_depth_crop'\n",
    "    save_depth_path_01 = os.path.join(*save_depth_path_01)\n",
    "    \n",
    "    # クロップ\n",
    "    image = image[grasp_y-crop_size:grasp_y+crop_size, grasp_x-crop_size:grasp_x+crop_size, :]\n",
    "    raw_depth = raw_depth[grasp_y-crop_size:grasp_y+crop_size, grasp_x-crop_size:grasp_x+crop_size]\n",
    "    csv_depth = csv_depth[grasp_y-crop_size:grasp_y+crop_size, grasp_x-crop_size:grasp_x+crop_size]\n",
    "    \n",
    "    # 保存\n",
    "    cv2.imwrite(save_image_path, image)\n",
    "    np.save(save_depth_path, raw_depth)\n",
    "    np.savetxt(save_depth_path_01, csv_depth, delimiter=',')"
   ]
  },
  {
   "cell_type": "code",
   "execution_count": 8,
   "id": "e77e722d",
   "metadata": {},
   "outputs": [
    {
     "name": "stdout",
     "output_type": "stream",
     "text": [
      "数字が10000のファイル:\n",
      "2025-03-10T16-00-23.txt\n",
      "2025-01-20T21-27-28.txt\n",
      "2025-03-07T20-58-03.txt\n",
      "2025-03-07T20-51-50.txt\n",
      "2025-03-10T15-38-50.txt\n",
      "2025-03-07T21-22-35.txt\n",
      "2025-03-07T19-42-08.txt\n",
      "2025-03-07T19-21-07.txt\n",
      "2025-03-07T19-43-38.txt\n",
      "2025-03-10T16-06-13.txt\n",
      "2025-01-20T21-32-39.txt\n",
      "2025-03-07T21-08-42.txt\n",
      "2025-03-10T15-16-11.txt\n",
      "2025-01-20T20-53-21.txt\n",
      "2025-03-10T15-55-19.txt\n",
      "2025-03-07T19-45-23.txt\n",
      "2025-03-07T21-24-07.txt\n",
      "2025-01-20T20-03-48.txt\n",
      "2025-03-07T19-35-16.txt\n",
      "2025-03-10T15-34-22.txt\n",
      "2025-03-10T15-43-11.txt\n",
      "2025-03-07T20-31-01.txt\n",
      "2025-03-10T15-11-02.txt\n",
      "2025-03-10T15-59-38.txt\n",
      "2025-03-10T14-58-56.txt\n",
      "2025-03-10T15-45-36.txt\n",
      "2025-03-07T20-39-58.txt\n",
      "2025-03-10T16-18-46.txt\n",
      "2025-03-07T19-36-44.txt\n",
      "2025-03-07T20-29-21.txt\n",
      "2025-03-07T19-28-58.txt\n",
      "2025-03-07T19-11-49.txt\n",
      "2025-03-07T19-12-33.txt\n"
     ]
    }
   ],
   "source": [
    "target_dir = \"./new_dataset_er21046/train300/grams\"\n",
    "\n",
    "files_with_10000 = []\n",
    "\n",
    "# 対象ディレクトリ内のすべてのファイルを処理\n",
    "for file_name in os.listdir(target_dir):\n",
    "    if file_name.endswith(\".txt\"):  # .txtファイルのみ対象\n",
    "        file_path = os.path.join(target_dir, file_name)\n",
    "        \n",
    "        # ファイルを開いて中身をチェック\n",
    "        with open(file_path, \"r\") as file:\n",
    "            content = file.read().strip()\n",
    "            \n",
    "            # 中身が数字かどうか確認\n",
    "            if content.isdigit() and int(content) == 0:\n",
    "                files_with_10000.append(file_name)\n",
    "\n",
    "# 結果を出力\n",
    "print(\"数字が10000のファイル:\")\n",
    "for file_name in files_with_10000:\n",
    "    print(file_name)"
   ]
  },
  {
   "cell_type": "markdown",
   "id": "ad1018fc",
   "metadata": {},
   "source": [
    "データの保存"
   ]
  },
  {
   "cell_type": "code",
   "execution_count": 13,
   "id": "b6427bd7",
   "metadata": {},
   "outputs": [],
   "source": [
    "import glob\n",
    "import pickle\n",
    "import numpy as np\n",
    "import matplotlib.pyplot as plt"
   ]
  },
  {
   "cell_type": "code",
   "execution_count": 15,
   "id": "3a724f6b",
   "metadata": {},
   "outputs": [],
   "source": [
    "grams_path_list = sorted(glob.glob(\"./new_dataset_er21046/train300/grams/*\"))\n",
    "\n",
    "grasp_mass_list = []\n",
    "for i in range(len(grams_path_list)):\n",
    "    with open(grams_path_list[i]) as f:\n",
    "        grasp_mass = f.read().strip()  # 改行や余分な空白を取り除く\n",
    "    try:\n",
    "        grasp_mass_list.append(float(grasp_mass))\n",
    "    except ValueError:\n",
    "        print(f\"ファイル {grams_path_list[i]} の '{grasp_mass}' を float に変換できませんでした\")\n"
   ]
  },
  {
   "cell_type": "code",
   "execution_count": 19,
   "id": "7bcb54f8",
   "metadata": {},
   "outputs": [
    {
     "name": "stdout",
     "output_type": "stream",
     "text": [
      "[3.81, 1.82, 6.17, 4.4, 4.4, 6.42, 2.06, 0.86, 3.57, 6.63, 2.58, 6.13, 6.53, 4.1, 3.58, 2.0, 4.67, 10.65, 5.65, 5.78, 3.17, 6.33, 2.55, 7.73, 1.01, 8.09, 9.14, 4.3, 8.58, 7.28, 0.0, 9.0, 4.09, 2.42, 6.6, 1.49, 4.85, 5.06, 0.9, 4.16, 2.12, 2.28, 6.75, 3.58, 7.14, 4.14, 8.41, 2.83, 3.76, 5.07, 5.5, 0.0, 2.85, 1.78, 3.22, 1.01, 2.38, 0.13, 1.63, 5.0, 1.22, 3.9, 3.74, 3.68, 6.35, 0.0, 3.41, 4.01, 0.0, 5.2, 6.43, 3.71, 11.69, 3.31, 4.28, 1.68, 5.82, 6.0, 4.0, 1.93, 1.29, 4.22, 7.85, 7.46, 5.13, 0.6, 3.94, 2.69, 4.2, 3.5, 6.87, 3.25, 4.56, 2.92, 11.23, 7.28, 5.74, 2.11, 6.16, 2.94, 5.34, 4.27, 4.13, 4.66, 4.74, 4.17, 5.25, 4.18, 1.76, 7.16, 0.0, 0.0, 2.11, 3.92, 7.9, 10000.0, 5.06, 2.77, 3.28, 3.92, 8.01, 4.38, 0.0, 3.56, 5.0, 7.77, 1.63, 0.0, 2.74, 4.28, 4.37, 5.24, 6.89, 5.32, 5.85, 0.0, 5.64, 0.0, 1.64, 4.21, 3.48, 5.2, 2.64, 1.29, 0.0, 1.38, 0.0, 0.0, 0.47, 5.07, 0.28, 5.1, 2.39, 4.47, 7.0, 0.0, 1.94, 0.0, 5.37, 3.47, 3.78, 1.06, 7.8, 0.79, 2.92, 3.34, 0.0, 1.0, 4.57, 5.43, 1.8, 3.48, 0.0, 5.84, 6.45, 8.42, 0.46, 0.46, 0.0, 0.5, 2.15, 3.32, 5.76, 2.1, 2.1, 2.0, 1.48, 2.56, 0.0, 1.08, 1.0, 0.62, 0.0, 3.77, 0.0, 5.75, 3.62, 0.69, 1.93, 2.0, 4.86, 4.47, 5.67, 3.88, 0.0, 1.95, 2.85, 2.25, 5.88, 7.59, 3.86, 3.36, 6.88, 1.32, 7.51, 3.77, 4.5, 3.46, 12.74, 0.0, 4.27, 3.05, 6.13, 4.7, 3.14, 0.0, 2.93, 2.41, 9.26, 4.81, 2.41, 4.66, 1.38, 3.68, 6.04, 1.77, 2.92, 1.48, 1.17, 0.77, 6.58, 3.0, 8.5, 5.5, 4.4, 0.0, 5.47, 0.9, 0.75, 4.81, 0.0, 3.09, 5.07, 3.91, 1.91, 0.0, 3.94, 0.0, 4.83, 2.61, 3.62, 4.45, 2.65, 3.53, 2.09, 4.38, 4.13, 1.99, 0.0, 6.31, 2.19, 2.71, 5.14, 0.0, 0.0, 1.56, 4.25, 5.31, 4.38, 2.64, 0.0, 5.74, 4.44, 3.98, 3.63, 1.3, 8.0, 4.37, 2.32, 1.79, 2.38, 2.27, 4.83, 2.18, 0.0, 1.82, 2.83, 6.68, 10.26, 1.62]\n",
      "\n",
      "300\n",
      "\n",
      "[187  27  47 163  58 295 143 139 285  39 210 277 214 175 239 130 161 133\n",
      " 145 232  96 212 273  42 148 120  67 114  31  75 105 231 267 247   1 289\n",
      " 208  84  16  20 221 106 176 296 172  41 137 144 204 254  18  88 174  71\n",
      " 220 177 275 149  81 250  83 152 185 110 154 127 269 253 157 284 128  91\n",
      " 258  90 211  48 294 249 103  66 199  22  72 108 112 288 228 132 207 244\n",
      " 107 193 281 118  64 268 123 196 205  51 198  94  55 243 135  57  38  35\n",
      " 200 195 136  53 179  59  26  73 270 158 278 230  80  68  43 215 191 146\n",
      " 160 165   8 170  87 151 183  30 131 134  93 279  13 159 227 297 189 140\n",
      "  86  10 166 184 101 147  29 124 241 117 169  52 109  95 100 168 190 255\n",
      "  99 111 261 125 272  89 264 225 155 286 119 266 142  79 248  77  44 235\n",
      " 164 188 216 202   6 259   9  25  12 178 229 242 240  63  23 290 287 182\n",
      " 156  56  17  45 201  32 251  11  19 298 113  74 197  24 263  85 282 209\n",
      " 291 167 276 224 257 138 234  98 280  36 121 141 129 256 245 236  40 203\n",
      " 116  28  82 180  65  62  78 206 283 194  21 233 299 252  49  46 260   5\n",
      "   3 181  14 122 218 219 265 237 271   0 213   4 238   7  50  69  76 262\n",
      "  33 223 217  15 171 222 102 153 126 115  70 246  34  97   2 192 104 292\n",
      " 274  61 162  92 150  37 293 173 226 186  54  60]\n",
      "<class 'numpy.ndarray'>\n",
      "Train data\n"
     ]
    },
    {
     "data": {
      "image/png": "[encoded data removed]",
      "text/plain": [
       "<Figure size 640x480 with 1 Axes>"
      ]
     },
     "metadata": {},
     "output_type": "display_data"
    }
   ],
   "source": [
    "print(grasp_mass_list)\n",
    "print(\"\")\n",
    "print(len(grasp_mass_list))\n",
    "print(\"\")\n",
    "num_all   = 300\n",
    "\n",
    "id_all   = np.random.choice(num_all, num_all, replace=False)\n",
    "id_train = id_all\n",
    "print(id_train)\n",
    "print(type(id_train))\n",
    "print(\"Train data\")\n",
    "plt.hist(np.array(grasp_mass_list)[id_train], bins=np.arange(-1, 15, 0.1), alpha=0.5, ec='navy')\n",
    "plt.grid(axis='y')\n",
    "plt.ylabel('Number of data')\n",
    "plt.xlabel('Grasped mass [g]')\n",
    "plt.show()\n"
   ]
  },
  {
   "cell_type": "code",
   "execution_count": 21,
   "id": "b7773534",
   "metadata": {},
   "outputs": [
    {
     "name": "stdout",
     "output_type": "stream",
     "text": [
      "[3.81, 1.82, 6.17, 4.4, 4.4, 6.42, 2.06, 0.86, 3.57, 6.63, 2.58, 6.13, 6.53, 4.1, 3.58, 2.0, 4.67, 10.65, 5.65, 5.78, 3.17, 6.33, 2.55, 7.73, 1.01, 8.09, 9.14, 4.3, 8.58, 7.28, 0.0, 9.0, 4.09, 2.42, 6.6, 1.49, 4.85, 5.06, 0.9, 4.16, 2.12, 2.28, 6.75, 3.58, 7.14, 4.14, 8.41, 2.83, 3.76, 5.07, 5.5, 0.0, 2.85, 1.78, 3.22, 1.01, 2.38, 0.13, 1.63, 5.0, 1.22, 3.9, 3.74, 3.68, 6.35, 0.0, 3.41, 4.01, 0.0, 5.2, 6.43, 3.71, 11.69, 3.31, 4.28, 1.68, 5.82, 6.0, 4.0, 1.93, 1.29, 4.22, 7.85, 7.46, 5.13, 0.6, 3.94, 2.69, 4.2, 3.5, 6.87, 3.25, 4.56, 2.92, 11.23, 7.28, 5.74, 2.11, 6.16, 2.94, 5.34, 4.27, 4.13, 4.66, 4.74, 4.17, 5.25, 4.18, 1.76, 7.16, 0.0, 0.0, 2.11, 3.92, 7.9, 10000.0, 5.06, 2.77, 3.28, 3.92, 8.01, 4.38, 0.0, 3.56, 5.0, 7.77, 1.63, 0.0, 2.74, 4.28, 4.37, 5.24, 6.89, 5.32, 5.85, 0.0, 5.64, 0.0, 1.64, 4.21, 3.48, 5.2, 2.64, 1.29, 0.0, 1.38, 0.0, 0.0, 0.47, 5.07, 0.28, 5.1, 2.39, 4.47, 7.0, 0.0, 1.94, 0.0, 5.37, 3.47, 3.78, 1.06, 7.8, 0.79, 2.92, 3.34, 0.0, 1.0, 4.57, 5.43, 1.8, 3.48, 0.0, 5.84, 6.45, 8.42, 0.46, 0.46, 0.0, 0.5, 2.15, 3.32, 5.76, 2.1, 2.1, 2.0, 1.48, 2.56, 0.0, 1.08, 1.0, 0.62, 0.0, 3.77, 0.0, 5.75, 3.62, 0.69, 1.93, 2.0, 4.86, 4.47, 5.67, 3.88, 0.0, 1.95, 2.85, 2.25, 5.88, 7.59, 3.86, 3.36, 6.88, 1.32, 7.51, 3.77, 4.5, 3.46, 12.74, 0.0, 4.27, 3.05, 6.13, 4.7, 3.14, 0.0, 2.93, 2.41, 9.26, 4.81, 2.41, 4.66, 1.38, 3.68, 6.04, 1.77, 2.92, 1.48, 1.17, 0.77, 6.58, 3.0, 8.5, 5.5, 4.4, 0.0, 5.47, 0.9, 0.75, 4.81, 0.0, 3.09, 5.07, 3.91, 1.91, 0.0, 3.94, 0.0, 4.83, 2.61, 3.62, 4.45, 2.65, 3.53, 2.09, 4.38, 4.13, 1.99, 0.0, 6.31, 2.19, 2.71, 5.14, 0.0, 0.0, 1.56, 4.25, 5.31, 4.38, 2.64, 0.0, 5.74, 4.44, 3.98, 3.63, 1.3, 8.0, 4.37, 2.32, 1.79, 2.38, 2.27, 4.83, 2.18, 0.0, 1.82, 2.83, 6.68, 10.26, 1.62]\n",
      "\n",
      "300\n",
      "\n",
      "[195 108 115 136 173 299  90 289 157 120 175 102 198 226  86 269  41  96\n",
      " 152 215 178  53  31 155  76 251 119  19 124 262 224 229 278   0 235 265\n",
      " 106  74 186  52 104 185 128 236 255 171 295 131  25  22  47 274 193 296\n",
      "  24  70  56 110 258 183 272  45  57 151 288 182  93 192  50  67  35 133\n",
      " 172  10  29 122  51 297 164 298 294 163 135 233  40   4 197  36 245 103\n",
      " 267  65 112 138 243 212 153 225  18 150  21 205 218 290 114 141 232  28\n",
      " 111 209  11 276 261 190 210 275 204 270  97 166 281 117 249 137  78  30\n",
      "  64  14  44  34 244  32 179  77 214 113 139 199 234  82 161 194 125 280\n",
      "  66 169  39 107 146 118  99   8  89 176   9 159 196  49  68 220 238  81\n",
      " 189 167 145 284  38 227 221 241  27 248 247 230 282 254  72 242 202 168\n",
      " 174 250 279  62  79 129  12 140 109 147  69 187 283 246 154 126  60 223\n",
      "  33 100  59  84 160 252 162   3  15  91 180 203  16 211 286 170 231 208\n",
      " 105  87 285 291 123 292 177 149  94 277  85  55 222 191  80 287 181 148\n",
      "  43  63  48 207 213  42  58 264 273 165 271  98 134 266 188  88 127  37\n",
      " 156 200  95 143  26 268   6   1  73  83 121 260  17 101 201 130 256  54\n",
      "  46  71 263 206 184 116  92  61 217  13 158 240   2 253   5 216  75 237\n",
      " 239  23 219 259 293 132  20 144 142 257 228   7]\n",
      "<class 'numpy.ndarray'>\n",
      "Train data\n"
     ]
    },
    {
     "data": {
      "image/png": "[encoded data removed]",
      "text/plain": [
       "<Figure size 640x480 with 1 Axes>"
      ]
     },
     "metadata": {},
     "output_type": "display_data"
    }
   ],
   "source": [
    "print(grasp_mass_list)\n",
    "print(\"\")\n",
    "print(len(grasp_mass_list))\n",
    "print(\"\")\n",
    "num_all   = 300\n",
    "\n",
    "id_all   = np.random.choice(num_all, num_all, replace=False)\n",
    "id_train = id_all\n",
    "print(id_train)\n",
    "print(type(id_train))\n",
    "print(\"Train data\")\n",
    "plt.hist(np.array(grasp_mass_list)[id_train], bins=np.arange(-1, 15, 0.1), alpha=0.5, ec='navy')\n",
    "plt.grid(axis='y')\n",
    "plt.ylabel('Number of data')\n",
    "plt.xlabel('Grasped mass [g]')\n",
    "plt.show()"
   ]
  },
  {
   "cell_type": "code",
   "execution_count": 20,
   "id": "5c770a95",
   "metadata": {},
   "outputs": [],
   "source": [
    "# 保存\n",
    "with open('./new_dataset_er21046/train300/divide_ids/data_train_300.pickle', mode='wb') as fo:\n",
    "    pickle.dump([id_train], fo)"
   ]
  },
  {
   "cell_type": "code",
   "execution_count": 22,
   "id": "961a335c",
   "metadata": {},
   "outputs": [],
   "source": [
    "# 保存\n",
    "with open('./new_dataset_er21046/train300/divide_ids/data_train_300_v1.pickle', mode='wb') as fo:\n",
    "    pickle.dump([id_train], fo)"
   ]
  },
  {
   "cell_type": "code",
   "execution_count": null,
   "id": "bd7713dc",
   "metadata": {},
   "outputs": [],
   "source": []
  },
  {
   "cell_type": "code",
   "execution_count": null,
   "id": "992295e6",
   "metadata": {},
   "outputs": [],
   "source": []
  }
 ],
 "metadata": {
  "kernelspec": {
   "display_name": "Python 3 (ipykernel)",
   "language": "python",
   "name": "python3"
  },
  "language_info": {
   "codemirror_mode": {
    "name": "ipython",
    "version": 3
   },
   "file_extension": ".py",
   "mimetype": "text/x-python",
   "name": "python",
   "nbconvert_exporter": "python",
   "pygments_lexer": "ipython3",
   "version": "3.10.12"
  }
 },
 "nbformat": 4,
 "nbformat_minor": 5
}
